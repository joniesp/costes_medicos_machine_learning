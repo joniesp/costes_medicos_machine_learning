{
 "cells": [
  {
   "cell_type": "code",
   "execution_count": 1,
   "metadata": {},
   "outputs": [],
   "source": [
    "import numpy as np\n",
    "import pandas as pd\n",
    "import matplotlib.pyplot as plt\n",
    "import sklearn.compose\n",
    "from sklearn.linear_model import LinearRegression\n",
    "from sklearn.model_selection import train_test_split, cross_val_score\n",
    "from sklearn.metrics import mean_absolute_error, mean_squared_error\n",
    "from scipy import stats"
   ]
  },
  {
   "cell_type": "markdown",
   "metadata": {},
   "source": [
    "### Definición de funciones auxiliares que usare durante esta practica"
   ]
  },
  {
   "cell_type": "code",
   "execution_count": 2,
   "metadata": {},
   "outputs": [],
   "source": [
    "def write_results_csv(predict):\n",
    "    results = pd.DataFrame(predict, columns=['charges'])\n",
    "    results['id'] = data_test['id']\n",
    "    results.to_csv(\"predicciones.csv\", columns=results.columns.values, index=False)\n",
    "\n",
    "def transform_data(data, train):\n",
    "    new_columns = list(['age','female', 'male', 'bmi', 'children','non smoker', 'smoker', 'northeast', 'northwest', 'southeast', 'southwest'])\n",
    "\n",
    "    aux_data = data.to_numpy()\n",
    "    \n",
    "    column_transformer = sklearn.compose.ColumnTransformer(transformers = [\n",
    "        (\"drop\", \"drop\", [0]),\n",
    "        (\"age\", sklearn.preprocessing.RobustScaler(), [1]),\n",
    "        (\"sex\", sklearn.preprocessing.OneHotEncoder(), [2]),\n",
    "        (\"bmi\", sklearn.preprocessing.RobustScaler(), [3]),\n",
    "        (\"children\", sklearn.preprocessing.MinMaxScaler(), [4]),\n",
    "        (\"smoker\", sklearn.preprocessing.OneHotEncoder(), [5]),\n",
    "        (\"region\", sklearn.preprocessing.OneHotEncoder(), [6])\n",
    "    ])\n",
    "    \n",
    "    aux_transform = column_transformer.fit_transform(data)\n",
    "    aux_data = pd.DataFrame(aux_transform, columns=new_columns)\n",
    "    \n",
    "    if train:\n",
    "        transformed_data = data_train.drop(columns=['id', 'sex', 'children', 'smoker', 'region', 'charges'])\n",
    "    else:\n",
    "        transformed_data = data_test.drop(columns=['id', 'sex', 'children', 'smoker', 'region'])\n",
    "    \n",
    "    for x in new_columns:\n",
    "        transformed_data[x] = aux_data[x]\n",
    "    \n",
    "    return transformed_data.dropna()\n",
    "\n",
    "\n",
    "def normal_distribution(data, value):\n",
    "    print (stats.kstest(data[value], 'norm'))\n",
    "\n",
    "    \n",
    "def outliers_detection(data, param):\n",
    "    mean = data[param].describe()['mean']\n",
    "    sigma = data[param].describe()['std']\n",
    "    outlier_plus = mean + sigma*3\n",
    "    outlier_minus = mean - sigma*3\n",
    "    \n",
    "    outliers_minus = data[data[param] < outlier_minus]\n",
    "    outliers_plus = data[data[param] > outlier_plus]\n",
    "    \n",
    "    return outliers_minus, outliers_plus\n",
    "\n",
    "\n",
    "def remove_outliers(data):\n",
    "    for x in ['age', 'bmi', 'charges']:\n",
    "        outliers_minus, outliers_plus = outliers_detection(data, x)\n",
    "        data = remove_rows(data, [outliers_plus, outliers_minus])\n",
    "    return data\n",
    "\n",
    "def remove_rows(data, rows):\n",
    "    for row in rows:\n",
    "        data = data.drop(labels=row.index, axis=0)\n",
    "    return data"
   ]
  },
  {
   "cell_type": "markdown",
   "metadata": {},
   "source": [
    "##  Carga de los datos"
   ]
  },
  {
   "cell_type": "code",
   "execution_count": 4,
   "metadata": {
    "scrolled": true
   },
   "outputs": [
    {
     "ename": "ParserError",
     "evalue": "Error tokenizing data. C error: Expected 1 fields in line 7, saw 2\n",
     "output_type": "error",
     "traceback": [
      "\u001b[0;31m---------------------------------------------------------------------------\u001b[0m",
      "\u001b[0;31mParserError\u001b[0m                               Traceback (most recent call last)",
      "\u001b[0;32m<ipython-input-4-4f8b3ba418d2>\u001b[0m in \u001b[0;36m<module>\u001b[0;34m\u001b[0m\n\u001b[0;32m----> 1\u001b[0;31m \u001b[0mdata_train\u001b[0m \u001b[0;34m=\u001b[0m \u001b[0mpd\u001b[0m\u001b[0;34m.\u001b[0m\u001b[0mread_csv\u001b[0m\u001b[0;34m(\u001b[0m\u001b[0;34m'https://www.kaggle.com/c/ml-21-22-p1/data/test.csv?select=train.csv'\u001b[0m\u001b[0;34m)\u001b[0m\u001b[0;34m\u001b[0m\u001b[0;34m\u001b[0m\u001b[0m\n\u001b[0m\u001b[1;32m      2\u001b[0m \u001b[0mdata_test\u001b[0m \u001b[0;34m=\u001b[0m \u001b[0mpd\u001b[0m\u001b[0;34m.\u001b[0m\u001b[0mread_csv\u001b[0m\u001b[0;34m(\u001b[0m\u001b[0;34m'test.csv'\u001b[0m\u001b[0;34m)\u001b[0m\u001b[0;34m\u001b[0m\u001b[0;34m\u001b[0m\u001b[0m\n\u001b[1;32m      3\u001b[0m \u001b[0;34m\u001b[0m\u001b[0m\n\u001b[1;32m      4\u001b[0m \u001b[0mdata_train\u001b[0m\u001b[0;34m.\u001b[0m\u001b[0mhead\u001b[0m\u001b[0;34m(\u001b[0m\u001b[0;34m)\u001b[0m\u001b[0;34m\u001b[0m\u001b[0;34m\u001b[0m\u001b[0m\n",
      "\u001b[0;32m~/opt/anaconda3/lib/python3.7/site-packages/pandas/io/parsers.py\u001b[0m in \u001b[0;36mparser_f\u001b[0;34m(filepath_or_buffer, sep, delimiter, header, names, index_col, usecols, squeeze, prefix, mangle_dupe_cols, dtype, engine, converters, true_values, false_values, skipinitialspace, skiprows, skipfooter, nrows, na_values, keep_default_na, na_filter, verbose, skip_blank_lines, parse_dates, infer_datetime_format, keep_date_col, date_parser, dayfirst, cache_dates, iterator, chunksize, compression, thousands, decimal, lineterminator, quotechar, quoting, doublequote, escapechar, comment, encoding, dialect, error_bad_lines, warn_bad_lines, delim_whitespace, low_memory, memory_map, float_precision)\u001b[0m\n\u001b[1;32m    683\u001b[0m         )\n\u001b[1;32m    684\u001b[0m \u001b[0;34m\u001b[0m\u001b[0m\n\u001b[0;32m--> 685\u001b[0;31m         \u001b[0;32mreturn\u001b[0m \u001b[0m_read\u001b[0m\u001b[0;34m(\u001b[0m\u001b[0mfilepath_or_buffer\u001b[0m\u001b[0;34m,\u001b[0m \u001b[0mkwds\u001b[0m\u001b[0;34m)\u001b[0m\u001b[0;34m\u001b[0m\u001b[0;34m\u001b[0m\u001b[0m\n\u001b[0m\u001b[1;32m    686\u001b[0m \u001b[0;34m\u001b[0m\u001b[0m\n\u001b[1;32m    687\u001b[0m     \u001b[0mparser_f\u001b[0m\u001b[0;34m.\u001b[0m\u001b[0m__name__\u001b[0m \u001b[0;34m=\u001b[0m \u001b[0mname\u001b[0m\u001b[0;34m\u001b[0m\u001b[0;34m\u001b[0m\u001b[0m\n",
      "\u001b[0;32m~/opt/anaconda3/lib/python3.7/site-packages/pandas/io/parsers.py\u001b[0m in \u001b[0;36m_read\u001b[0;34m(filepath_or_buffer, kwds)\u001b[0m\n\u001b[1;32m    461\u001b[0m \u001b[0;34m\u001b[0m\u001b[0m\n\u001b[1;32m    462\u001b[0m     \u001b[0;32mtry\u001b[0m\u001b[0;34m:\u001b[0m\u001b[0;34m\u001b[0m\u001b[0;34m\u001b[0m\u001b[0m\n\u001b[0;32m--> 463\u001b[0;31m         \u001b[0mdata\u001b[0m \u001b[0;34m=\u001b[0m \u001b[0mparser\u001b[0m\u001b[0;34m.\u001b[0m\u001b[0mread\u001b[0m\u001b[0;34m(\u001b[0m\u001b[0mnrows\u001b[0m\u001b[0;34m)\u001b[0m\u001b[0;34m\u001b[0m\u001b[0;34m\u001b[0m\u001b[0m\n\u001b[0m\u001b[1;32m    464\u001b[0m     \u001b[0;32mfinally\u001b[0m\u001b[0;34m:\u001b[0m\u001b[0;34m\u001b[0m\u001b[0;34m\u001b[0m\u001b[0m\n\u001b[1;32m    465\u001b[0m         \u001b[0mparser\u001b[0m\u001b[0;34m.\u001b[0m\u001b[0mclose\u001b[0m\u001b[0;34m(\u001b[0m\u001b[0;34m)\u001b[0m\u001b[0;34m\u001b[0m\u001b[0;34m\u001b[0m\u001b[0m\n",
      "\u001b[0;32m~/opt/anaconda3/lib/python3.7/site-packages/pandas/io/parsers.py\u001b[0m in \u001b[0;36mread\u001b[0;34m(self, nrows)\u001b[0m\n\u001b[1;32m   1152\u001b[0m     \u001b[0;32mdef\u001b[0m \u001b[0mread\u001b[0m\u001b[0;34m(\u001b[0m\u001b[0mself\u001b[0m\u001b[0;34m,\u001b[0m \u001b[0mnrows\u001b[0m\u001b[0;34m=\u001b[0m\u001b[0;32mNone\u001b[0m\u001b[0;34m)\u001b[0m\u001b[0;34m:\u001b[0m\u001b[0;34m\u001b[0m\u001b[0;34m\u001b[0m\u001b[0m\n\u001b[1;32m   1153\u001b[0m         \u001b[0mnrows\u001b[0m \u001b[0;34m=\u001b[0m \u001b[0m_validate_integer\u001b[0m\u001b[0;34m(\u001b[0m\u001b[0;34m\"nrows\"\u001b[0m\u001b[0;34m,\u001b[0m \u001b[0mnrows\u001b[0m\u001b[0;34m)\u001b[0m\u001b[0;34m\u001b[0m\u001b[0;34m\u001b[0m\u001b[0m\n\u001b[0;32m-> 1154\u001b[0;31m         \u001b[0mret\u001b[0m \u001b[0;34m=\u001b[0m \u001b[0mself\u001b[0m\u001b[0;34m.\u001b[0m\u001b[0m_engine\u001b[0m\u001b[0;34m.\u001b[0m\u001b[0mread\u001b[0m\u001b[0;34m(\u001b[0m\u001b[0mnrows\u001b[0m\u001b[0;34m)\u001b[0m\u001b[0;34m\u001b[0m\u001b[0;34m\u001b[0m\u001b[0m\n\u001b[0m\u001b[1;32m   1155\u001b[0m \u001b[0;34m\u001b[0m\u001b[0m\n\u001b[1;32m   1156\u001b[0m         \u001b[0;31m# May alter columns / col_dict\u001b[0m\u001b[0;34m\u001b[0m\u001b[0;34m\u001b[0m\u001b[0;34m\u001b[0m\u001b[0m\n",
      "\u001b[0;32m~/opt/anaconda3/lib/python3.7/site-packages/pandas/io/parsers.py\u001b[0m in \u001b[0;36mread\u001b[0;34m(self, nrows)\u001b[0m\n\u001b[1;32m   2057\u001b[0m     \u001b[0;32mdef\u001b[0m \u001b[0mread\u001b[0m\u001b[0;34m(\u001b[0m\u001b[0mself\u001b[0m\u001b[0;34m,\u001b[0m \u001b[0mnrows\u001b[0m\u001b[0;34m=\u001b[0m\u001b[0;32mNone\u001b[0m\u001b[0;34m)\u001b[0m\u001b[0;34m:\u001b[0m\u001b[0;34m\u001b[0m\u001b[0;34m\u001b[0m\u001b[0m\n\u001b[1;32m   2058\u001b[0m         \u001b[0;32mtry\u001b[0m\u001b[0;34m:\u001b[0m\u001b[0;34m\u001b[0m\u001b[0;34m\u001b[0m\u001b[0m\n\u001b[0;32m-> 2059\u001b[0;31m             \u001b[0mdata\u001b[0m \u001b[0;34m=\u001b[0m \u001b[0mself\u001b[0m\u001b[0;34m.\u001b[0m\u001b[0m_reader\u001b[0m\u001b[0;34m.\u001b[0m\u001b[0mread\u001b[0m\u001b[0;34m(\u001b[0m\u001b[0mnrows\u001b[0m\u001b[0;34m)\u001b[0m\u001b[0;34m\u001b[0m\u001b[0;34m\u001b[0m\u001b[0m\n\u001b[0m\u001b[1;32m   2060\u001b[0m         \u001b[0;32mexcept\u001b[0m \u001b[0mStopIteration\u001b[0m\u001b[0;34m:\u001b[0m\u001b[0;34m\u001b[0m\u001b[0;34m\u001b[0m\u001b[0m\n\u001b[1;32m   2061\u001b[0m             \u001b[0;32mif\u001b[0m \u001b[0mself\u001b[0m\u001b[0;34m.\u001b[0m\u001b[0m_first_chunk\u001b[0m\u001b[0;34m:\u001b[0m\u001b[0;34m\u001b[0m\u001b[0;34m\u001b[0m\u001b[0m\n",
      "\u001b[0;32mpandas/_libs/parsers.pyx\u001b[0m in \u001b[0;36mpandas._libs.parsers.TextReader.read\u001b[0;34m()\u001b[0m\n",
      "\u001b[0;32mpandas/_libs/parsers.pyx\u001b[0m in \u001b[0;36mpandas._libs.parsers.TextReader._read_low_memory\u001b[0;34m()\u001b[0m\n",
      "\u001b[0;32mpandas/_libs/parsers.pyx\u001b[0m in \u001b[0;36mpandas._libs.parsers.TextReader._read_rows\u001b[0;34m()\u001b[0m\n",
      "\u001b[0;32mpandas/_libs/parsers.pyx\u001b[0m in \u001b[0;36mpandas._libs.parsers.TextReader._tokenize_rows\u001b[0;34m()\u001b[0m\n",
      "\u001b[0;32mpandas/_libs/parsers.pyx\u001b[0m in \u001b[0;36mpandas._libs.parsers.raise_parser_error\u001b[0;34m()\u001b[0m\n",
      "\u001b[0;31mParserError\u001b[0m: Error tokenizing data. C error: Expected 1 fields in line 7, saw 2\n"
     ]
    }
   ],
   "source": [
    "data_train = pd.read_csv('https://www.kaggle.com/c/ml-21-22-p1/data/test.csv?select=train.csv')\n",
    "data_test = pd.read_csv('test.csv')\n",
    "\n",
    "data_train.head()"
   ]
  },
  {
   "cell_type": "markdown",
   "metadata": {},
   "source": [
    "## Estudio de las variables\n",
    "En este apartado vamos a estudiar las variables que vienen en el conjunto de datos, buscaremos conocer como estan distribuidos sus datos con el fin de detectar si hubiese problemas de colinealidad o una gran cantidad de datos atípicos. Para ver su distribución nos basaremos en un histograma que nos dice como estan de repartidos los datos por clases o grupos, para detectar datos atipicos observaremos el boxplot o diagrama de caja y bigotes que esta basado en la representación de los quantiles y para la colinealidad nos basaremos en el coeficiente de correlación de pearson y nos ayudaremos de la libreria scipy para ello\n",
    "\n",
    "### Correlación de pearson\n",
    "Usaremos el coeficiente de la correlación de pearson para ver si todos los datos tienen una correlación lineal con la variable objetivo y detectar posibles problemas en la ausencia de la linealidad de cara a elegir el modelo que debemos aplicar.\n",
    "\n",
    "Este coeficiente se calcula de la siguiente manera: \n",
    "\n",
    "$$r = \\frac {\\sum (x - m_{x})(y - m_{y})} {\\sqrt{\\sum (x - m_{x})^{2} \\sum (y - m_{y})^{2}}} $$"
   ]
  },
  {
   "cell_type": "markdown",
   "metadata": {},
   "source": [
    "### Principales datos estadisticos"
   ]
  },
  {
   "cell_type": "code",
   "execution_count": 14,
   "metadata": {},
   "outputs": [
    {
     "data": {
      "text/html": [
       "<div>\n",
       "<style scoped>\n",
       "    .dataframe tbody tr th:only-of-type {\n",
       "        vertical-align: middle;\n",
       "    }\n",
       "\n",
       "    .dataframe tbody tr th {\n",
       "        vertical-align: top;\n",
       "    }\n",
       "\n",
       "    .dataframe thead th {\n",
       "        text-align: right;\n",
       "    }\n",
       "</style>\n",
       "<table border=\"1\" class=\"dataframe\">\n",
       "  <thead>\n",
       "    <tr style=\"text-align: right;\">\n",
       "      <th></th>\n",
       "      <th>id</th>\n",
       "      <th>age</th>\n",
       "      <th>bmi</th>\n",
       "      <th>children</th>\n",
       "      <th>charges</th>\n",
       "    </tr>\n",
       "  </thead>\n",
       "  <tbody>\n",
       "    <tr>\n",
       "      <td>count</td>\n",
       "      <td>936.000000</td>\n",
       "      <td>936.000000</td>\n",
       "      <td>936.000000</td>\n",
       "      <td>936.000000</td>\n",
       "      <td>936.000000</td>\n",
       "    </tr>\n",
       "    <tr>\n",
       "      <td>mean</td>\n",
       "      <td>670.162393</td>\n",
       "      <td>39.201923</td>\n",
       "      <td>30.483323</td>\n",
       "      <td>1.092949</td>\n",
       "      <td>13543.401938</td>\n",
       "    </tr>\n",
       "    <tr>\n",
       "      <td>std</td>\n",
       "      <td>385.864903</td>\n",
       "      <td>13.978319</td>\n",
       "      <td>5.998443</td>\n",
       "      <td>1.194870</td>\n",
       "      <td>12285.440739</td>\n",
       "    </tr>\n",
       "    <tr>\n",
       "      <td>min</td>\n",
       "      <td>0.000000</td>\n",
       "      <td>18.000000</td>\n",
       "      <td>16.815000</td>\n",
       "      <td>0.000000</td>\n",
       "      <td>1121.873900</td>\n",
       "    </tr>\n",
       "    <tr>\n",
       "      <td>25%</td>\n",
       "      <td>333.750000</td>\n",
       "      <td>27.000000</td>\n",
       "      <td>26.125000</td>\n",
       "      <td>0.000000</td>\n",
       "      <td>4835.844225</td>\n",
       "    </tr>\n",
       "    <tr>\n",
       "      <td>50%</td>\n",
       "      <td>673.500000</td>\n",
       "      <td>39.000000</td>\n",
       "      <td>30.250000</td>\n",
       "      <td>1.000000</td>\n",
       "      <td>9521.134300</td>\n",
       "    </tr>\n",
       "    <tr>\n",
       "      <td>75%</td>\n",
       "      <td>1007.500000</td>\n",
       "      <td>51.000000</td>\n",
       "      <td>34.210000</td>\n",
       "      <td>2.000000</td>\n",
       "      <td>17388.570550</td>\n",
       "    </tr>\n",
       "    <tr>\n",
       "      <td>max</td>\n",
       "      <td>1336.000000</td>\n",
       "      <td>64.000000</td>\n",
       "      <td>52.580000</td>\n",
       "      <td>5.000000</td>\n",
       "      <td>63770.428010</td>\n",
       "    </tr>\n",
       "  </tbody>\n",
       "</table>\n",
       "</div>"
      ],
      "text/plain": [
       "                id         age         bmi    children       charges\n",
       "count   936.000000  936.000000  936.000000  936.000000    936.000000\n",
       "mean    670.162393   39.201923   30.483323    1.092949  13543.401938\n",
       "std     385.864903   13.978319    5.998443    1.194870  12285.440739\n",
       "min       0.000000   18.000000   16.815000    0.000000   1121.873900\n",
       "25%     333.750000   27.000000   26.125000    0.000000   4835.844225\n",
       "50%     673.500000   39.000000   30.250000    1.000000   9521.134300\n",
       "75%    1007.500000   51.000000   34.210000    2.000000  17388.570550\n",
       "max    1336.000000   64.000000   52.580000    5.000000  63770.428010"
      ]
     },
     "execution_count": 14,
     "metadata": {},
     "output_type": "execute_result"
    }
   ],
   "source": [
    "data_train.describe()"
   ]
  },
  {
   "cell_type": "markdown",
   "metadata": {},
   "source": [
    "#### Estudio de la variable *children*"
   ]
  },
  {
   "cell_type": "code",
   "execution_count": 4,
   "metadata": {
    "scrolled": true
   },
   "outputs": [
    {
     "data": {
      "text/plain": [
       "<matplotlib.collections.PathCollection at 0x1994be8cd48>"
      ]
     },
     "execution_count": 4,
     "metadata": {},
     "output_type": "execute_result"
    },
    {
     "data": {
      "image/png": "[encoded data removed]",
      "text/plain": [
       "<Figure size 432x288 with 1 Axes>"
      ]
     },
     "metadata": {
      "needs_background": "light"
     },
     "output_type": "display_data"
    }
   ],
   "source": [
    "plt.scatter(data_train['charges'], data_train['children'])"
   ]
  },
  {
   "cell_type": "code",
   "execution_count": 11,
   "metadata": {},
   "outputs": [
    {
     "data": {
      "text/plain": [
       "(array([404.,   0., 217.,   0., 177.,   0., 110.,   0.,  18.,  10.]),\n",
       " array([0. , 0.5, 1. , 1.5, 2. , 2.5, 3. , 3.5, 4. , 4.5, 5. ]),\n",
       " <a list of 10 Patch objects>)"
      ]
     },
     "execution_count": 11,
     "metadata": {},
     "output_type": "execute_result"
    },
    {
     "data": {
      "image/png": "[encoded data removed]",
      "text/plain": [
       "<Figure size 432x288 with 1 Axes>"
      ]
     },
     "metadata": {
      "needs_background": "light"
     },
     "output_type": "display_data"
    }
   ],
   "source": [
    "plt.hist(data_train['children'])"
   ]
  },
  {
   "cell_type": "code",
   "execution_count": 12,
   "metadata": {},
   "outputs": [
    {
     "data": {
      "text/plain": [
       "{'whiskers': [<matplotlib.lines.Line2D at 0x26a1cd89f08>,\n",
       "  <matplotlib.lines.Line2D at 0x26a1cd8ef08>],\n",
       " 'caps': [<matplotlib.lines.Line2D at 0x26a1cd94d48>,\n",
       "  <matplotlib.lines.Line2D at 0x26a1cd97c88>],\n",
       " 'boxes': [<matplotlib.lines.Line2D at 0x26a1cd89ac8>],\n",
       " 'medians': [<matplotlib.lines.Line2D at 0x26a1cd9ba48>],\n",
       " 'fliers': [<matplotlib.lines.Line2D at 0x26a1cd9f908>],\n",
       " 'means': []}"
      ]
     },
     "execution_count": 12,
     "metadata": {},
     "output_type": "execute_result"
    },
    {
     "data": {
      "image/png": "[encoded data removed]",
      "text/plain": [
       "<Figure size 432x288 with 1 Axes>"
      ]
     },
     "metadata": {
      "needs_background": "light"
     },
     "output_type": "display_data"
    }
   ],
   "source": [
    "plt.boxplot(data_train['children'])"
   ]
  },
  {
   "cell_type": "code",
   "execution_count": 21,
   "metadata": {},
   "outputs": [
    {
     "name": "stdout",
     "output_type": "stream",
     "text": [
      "coeficiente de correlacion: 0.029208815698438504 p-value: 0.3720637894559578\n"
     ]
    }
   ],
   "source": [
    "corr = stats.pearsonr(data_train['children'], data_train['charges'])\n",
    "print ('coeficiente de correlacion children: ' +  str(corr[0]) + ' p-value: '+ str(corr[1]))"
   ]
  },
  {
   "cell_type": "markdown",
   "metadata": {},
   "source": [
    "#### Estudio de la variable *bmi*"
   ]
  },
  {
   "cell_type": "code",
   "execution_count": 5,
   "metadata": {},
   "outputs": [
    {
     "data": {
      "text/plain": [
       "<matplotlib.collections.PathCollection at 0x1994bf128c8>"
      ]
     },
     "execution_count": 5,
     "metadata": {},
     "output_type": "execute_result"
    },
    {
     "data": {
      "image/png": "[encoded data removed]",
      "text/plain": [
       "<Figure size 432x288 with 1 Axes>"
      ]
     },
     "metadata": {
      "needs_background": "light"
     },
     "output_type": "display_data"
    }
   ],
   "source": [
    "plt.scatter(data_train['bmi'], data_train['charges'])"
   ]
  },
  {
   "cell_type": "code",
   "execution_count": 22,
   "metadata": {},
   "outputs": [
    {
     "data": {
      "text/plain": [
       "(array([ 37., 101., 158., 227., 199., 120.,  58.,  23.,  10.,   3.]),\n",
       " array([16.815 , 20.3915, 23.968 , 27.5445, 31.121 , 34.6975, 38.274 ,\n",
       "        41.8505, 45.427 , 49.0035, 52.58  ]),\n",
       " <a list of 10 Patch objects>)"
      ]
     },
     "execution_count": 22,
     "metadata": {},
     "output_type": "execute_result"
    },
    {
     "data": {
      "image/png": "[encoded data removed]",
      "text/plain": [
       "<Figure size 432x288 with 1 Axes>"
      ]
     },
     "metadata": {
      "needs_background": "light"
     },
     "output_type": "display_data"
    }
   ],
   "source": [
    "plt.hist(data_train['bmi'])"
   ]
  },
  {
   "cell_type": "code",
   "execution_count": 13,
   "metadata": {},
   "outputs": [
    {
     "data": {
      "text/plain": [
       "{'whiskers': [<matplotlib.lines.Line2D at 0x26a1ce09fc8>,\n",
       "  <matplotlib.lines.Line2D at 0x26a1ce09ec8>],\n",
       " 'caps': [<matplotlib.lines.Line2D at 0x26a1ce0ddc8>,\n",
       "  <matplotlib.lines.Line2D at 0x26a1ce11e48>],\n",
       " 'boxes': [<matplotlib.lines.Line2D at 0x26a1ce04cc8>],\n",
       " 'medians': [<matplotlib.lines.Line2D at 0x26a1ce15f88>],\n",
       " 'fliers': [<matplotlib.lines.Line2D at 0x26a1ce18e08>],\n",
       " 'means': []}"
      ]
     },
     "execution_count": 13,
     "metadata": {},
     "output_type": "execute_result"
    },
    {
     "data": {
      "image/png": "[encoded data removed]",
      "text/plain": [
       "<Figure size 432x288 with 1 Axes>"
      ]
     },
     "metadata": {
      "needs_background": "light"
     },
     "output_type": "display_data"
    }
   ],
   "source": [
    "plt.boxplot(data_train['bmi'])"
   ]
  },
  {
   "cell_type": "code",
   "execution_count": 24,
   "metadata": {},
   "outputs": [
    {
     "name": "stdout",
     "output_type": "stream",
     "text": [
      "coeficiente de correlacion: 0.20140295772067424 p-value: 5.056898757056297e-10\n"
     ]
    }
   ],
   "source": [
    "corr = stats.pearsonr(data_train['bmi'], data_train['charges'])\n",
    "print ('coeficiente de correlacion bmi: ' +  str(corr[0]) + ' p-value: '+ str(corr[1]))"
   ]
  },
  {
   "cell_type": "markdown",
   "metadata": {},
   "source": [
    "#### Estudio de la variable *edad*"
   ]
  },
  {
   "cell_type": "code",
   "execution_count": 7,
   "metadata": {},
   "outputs": [
    {
     "data": {
      "text/plain": [
       "<matplotlib.collections.PathCollection at 0x26a1c970e48>"
      ]
     },
     "execution_count": 7,
     "metadata": {},
     "output_type": "execute_result"
    },
    {
     "data": {
      "image/png": "[encoded data removed]",
      "text/plain": [
       "<Figure size 432x288 with 1 Axes>"
      ]
     },
     "metadata": {
      "needs_background": "light"
     },
     "output_type": "display_data"
    }
   ],
   "source": [
    "plt.scatter(data_train['age'], data_train['charges'])"
   ]
  },
  {
   "cell_type": "code",
   "execution_count": 8,
   "metadata": {},
   "outputs": [
    {
     "data": {
      "text/plain": [
       "(array([149., 102.,  80.,  92.,  68., 100., 101.,  73.,  91.,  80.]),\n",
       " array([18. , 22.6, 27.2, 31.8, 36.4, 41. , 45.6, 50.2, 54.8, 59.4, 64. ]),\n",
       " <a list of 10 Patch objects>)"
      ]
     },
     "execution_count": 8,
     "metadata": {},
     "output_type": "execute_result"
    },
    {
     "data": {
      "image/png": "[encoded data removed]",
      "text/plain": [
       "<Figure size 432x288 with 1 Axes>"
      ]
     },
     "metadata": {
      "needs_background": "light"
     },
     "output_type": "display_data"
    }
   ],
   "source": [
    "plt.hist(data_train['age'])"
   ]
  },
  {
   "cell_type": "code",
   "execution_count": 9,
   "metadata": {},
   "outputs": [
    {
     "data": {
      "text/plain": [
       "{'whiskers': [<matplotlib.lines.Line2D at 0x26a1cbe78c8>,\n",
       "  <matplotlib.lines.Line2D at 0x26a1cbeaa88>],\n",
       " 'caps': [<matplotlib.lines.Line2D at 0x26a1cbed9c8>,\n",
       "  <matplotlib.lines.Line2D at 0x26a1cbf19c8>],\n",
       " 'boxes': [<matplotlib.lines.Line2D at 0x26a1cbe7308>],\n",
       " 'medians': [<matplotlib.lines.Line2D at 0x26a1cbf6888>],\n",
       " 'fliers': [<matplotlib.lines.Line2D at 0x26a1cbf9988>],\n",
       " 'means': []}"
      ]
     },
     "execution_count": 9,
     "metadata": {},
     "output_type": "execute_result"
    },
    {
     "data": {
      "image/png": "[encoded data removed]",
      "text/plain": [
       "<Figure size 432x288 with 1 Axes>"
      ]
     },
     "metadata": {
      "needs_background": "light"
     },
     "output_type": "display_data"
    }
   ],
   "source": [
    "plt.boxplot(data_train['age'])"
   ]
  },
  {
   "cell_type": "code",
   "execution_count": 25,
   "metadata": {},
   "outputs": [
    {
     "name": "stdout",
     "output_type": "stream",
     "text": [
      "coeficiente de correlacion: 0.29473385463334034 p-value: 3.2481519047922746e-20\n"
     ]
    }
   ],
   "source": [
    "corr = stats.pearsonr(data_train['age'], data_train['charges'])\n",
    "print ('coeficiente de correlacion age: ' +  str(corr[0]) + ' p-value: '+ str(corr[1]))"
   ]
  },
  {
   "cell_type": "markdown",
   "metadata": {},
   "source": [
    "#### Estudio de la variable *charges*"
   ]
  },
  {
   "cell_type": "code",
   "execution_count": 14,
   "metadata": {},
   "outputs": [
    {
     "data": {
      "text/plain": [
       "(array([366., 274.,  98.,  64.,  21.,  43.,  42.,  23.,   2.,   3.]),\n",
       " array([ 1121.8739  ,  7386.729311, 13651.584722, 19916.440133,\n",
       "        26181.295544, 32446.150955, 38711.006366, 44975.861777,\n",
       "        51240.717188, 57505.572599, 63770.42801 ]),\n",
       " <a list of 10 Patch objects>)"
      ]
     },
     "execution_count": 14,
     "metadata": {},
     "output_type": "execute_result"
    },
    {
     "data": {
      "image/png": "[encoded data removed]",
      "text/plain": [
       "<Figure size 432x288 with 1 Axes>"
      ]
     },
     "metadata": {
      "needs_background": "light"
     },
     "output_type": "display_data"
    }
   ],
   "source": [
    "plt.hist(data_train['charges'])"
   ]
  },
  {
   "cell_type": "code",
   "execution_count": 28,
   "metadata": {},
   "outputs": [
    {
     "data": {
      "text/plain": [
       "{'whiskers': [<matplotlib.lines.Line2D at 0x26a1d4a86c8>,\n",
       "  <matplotlib.lines.Line2D at 0x26a1d4a8c48>],\n",
       " 'caps': [<matplotlib.lines.Line2D at 0x26a1d4a8d48>,\n",
       "  <matplotlib.lines.Line2D at 0x26a1d4ae748>],\n",
       " 'boxes': [<matplotlib.lines.Line2D at 0x26a1d49ff08>],\n",
       " 'medians': [<matplotlib.lines.Line2D at 0x26a1d4aecc8>],\n",
       " 'fliers': [<matplotlib.lines.Line2D at 0x26a1d4aedc8>],\n",
       " 'means': []}"
      ]
     },
     "execution_count": 28,
     "metadata": {},
     "output_type": "execute_result"
    },
    {
     "data": {
      "image/png": "[encoded data removed]",
      "text/plain": [
       "<Figure size 432x288 with 1 Axes>"
      ]
     },
     "metadata": {
      "needs_background": "light"
     },
     "output_type": "display_data"
    }
   ],
   "source": [
    "plt.boxplot(data_train['charges'])"
   ]
  },
  {
   "cell_type": "markdown",
   "metadata": {},
   "source": [
    "## Conclusión del estudio de los datos continuos\n",
    "La variable *age* presenta una relación lineal con la variable objetivo y no presenta valores atipicos como podemos apreciar. Le aplicaremos una transformación robust-scaler. \n",
    "\n",
    "La variable *children* según el coeficiente de pearson tiene una baja relación lineal con un p-valor > 0.05 lo que nos dice que la relación lineal no es *significativa*. Le aplicaremos una transformación min-max-scaler para establecer una escala [0,1] ya que tiene una desviación tipica pequeña.\n",
    "\n",
    "La variables *bmi* presenta bastantes valores atipicos dentro de sus datos esto se aprecia en el box-plot lo que puede influir negativamente a la hora de aplicar algunos modelos lineales sensibles. A este le aplicaremos una transformación robust-scaler para minimizar el impacto de los valores atipicos a la hora de utilizar un modelo.\n",
    "\n",
    "Al igual que con la variable *bmi* la variable objetivo *charges* presenta una gran cantidad de valores atipicos lo que puede llegar a dificultar el aprendizaje de los modelos lineales sensibles.\n",
    "\n",
    "De las variables *sex*, *region*, *smoker* aun no podemos hablar ya que hay que transformarlas ya que son datos discretos de los que lo único que podemos ver es como estan distribuidos pero no podemos observar la correlación por el momento hasta que no sean transformados. Para su transformación aplicaremos la tecnica *One-Hot-Encoding* y generaremos nuevas caracteristicas que tendrán el valor 0 o 1 en función del valor original."
   ]
  },
  {
   "cell_type": "code",
   "execution_count": 44,
   "metadata": {},
   "outputs": [],
   "source": [
    "transformed_data = transform_data(data_train, True)"
   ]
  },
  {
   "cell_type": "markdown",
   "metadata": {},
   "source": [
    "### Estudio de las variables discretas"
   ]
  },
  {
   "cell_type": "markdown",
   "metadata": {},
   "source": [
    "#### Estudio de las variables male/female obtenidas"
   ]
  },
  {
   "cell_type": "code",
   "execution_count": 31,
   "metadata": {},
   "outputs": [
    {
     "data": {
      "text/plain": [
       "(array([481.,   0.,   0.,   0.,   0.,   0.,   0.,   0.,   0., 455.]),\n",
       " array([0. , 0.1, 0.2, 0.3, 0.4, 0.5, 0.6, 0.7, 0.8, 0.9, 1. ]),\n",
       " <a list of 10 Patch objects>)"
      ]
     },
     "execution_count": 31,
     "metadata": {},
     "output_type": "execute_result"
    },
    {
     "data": {
      "image/png": "[encoded data removed]",
      "text/plain": [
       "<Figure size 432x288 with 1 Axes>"
      ]
     },
     "metadata": {
      "needs_background": "light"
     },
     "output_type": "display_data"
    }
   ],
   "source": [
    "plt.hist(data_train['sex'])"
   ]
  },
  {
   "cell_type": "code",
   "execution_count": 35,
   "metadata": {},
   "outputs": [
    {
     "name": "stdout",
     "output_type": "stream",
     "text": [
      "coeficiente de correlacion 'male': 0.06246584238269505 p-value: 0.05608180759037066\n",
      "coeficiente de correlacion 'female': -0.06246584238269505 p-value: 0.05608180759037066\n"
     ]
    }
   ],
   "source": [
    "corr_male = stats.pearsonr(transformed_data['male'], data_train['charges'])\n",
    "corr_female = stats.pearsonr(transformed_data['female'], data_train['charges'])\n",
    "\n",
    "print ('coeficiente de correlacion \\'male\\': ' +  str(corr_male[0]) + ' p-value: '+ str(corr_male[1]))\n",
    "print ('coeficiente de correlacion \\'female\\': ' +  str(corr_female[0]) + ' p-value: '+ str(corr_female[1]))"
   ]
  },
  {
   "cell_type": "markdown",
   "metadata": {},
   "source": [
    "#### Estudio de las variables smoker/non-smoker obtenidas"
   ]
  },
  {
   "cell_type": "code",
   "execution_count": 36,
   "metadata": {},
   "outputs": [
    {
     "data": {
      "text/plain": [
       "(array([733.,   0.,   0.,   0.,   0.,   0.,   0.,   0.,   0., 203.]),\n",
       " array([0. , 0.1, 0.2, 0.3, 0.4, 0.5, 0.6, 0.7, 0.8, 0.9, 1. ]),\n",
       " <a list of 10 Patch objects>)"
      ]
     },
     "execution_count": 36,
     "metadata": {},
     "output_type": "execute_result"
    },
    {
     "data": {
      "image/png": "[encoded data removed]",
      "text/plain": [
       "<Figure size 432x288 with 1 Axes>"
      ]
     },
     "metadata": {
      "needs_background": "light"
     },
     "output_type": "display_data"
    }
   ],
   "source": [
    "plt.hist(data_train['smoker'])"
   ]
  },
  {
   "cell_type": "code",
   "execution_count": 37,
   "metadata": {},
   "outputs": [
    {
     "name": "stdout",
     "output_type": "stream",
     "text": [
      "coeficiente de correlacion 'smoker': 0.7825954137971805 p-value: 1.857607899938705e-194\n",
      "coeficiente de correlacion 'non smoker': -0.7825954137971805 p-value: 1.857607899938705e-194\n"
     ]
    }
   ],
   "source": [
    "corr_smoker = stats.pearsonr(transformed_data['smoker'], data_train['charges'])\n",
    "corr_non_smoker = stats.pearsonr(transformed_data['non smoker'], data_train['charges'])\n",
    "\n",
    "print ('coeficiente de correlacion \\'smoker\\': ' +  str(corr_smoker[0]) + ' p-value: '+ str(corr_smoker[1]))\n",
    "print ('coeficiente de correlacion \\'non smoker\\': ' +  str(corr_non_smoker[0]) + ' p-value: '+ str(corr_non_smoker[1]))"
   ]
  },
  {
   "cell_type": "markdown",
   "metadata": {},
   "source": [
    "#### Estudio de las variables northeast/northwest/southeast/southwest"
   ]
  },
  {
   "cell_type": "code",
   "execution_count": 38,
   "metadata": {},
   "outputs": [
    {
     "data": {
      "text/plain": [
       "(array([235.,   0.,   0., 219.,   0.,   0., 231.,   0.,   0., 251.]),\n",
       " array([0. , 0.3, 0.6, 0.9, 1.2, 1.5, 1.8, 2.1, 2.4, 2.7, 3. ]),\n",
       " <a list of 10 Patch objects>)"
      ]
     },
     "execution_count": 38,
     "metadata": {},
     "output_type": "execute_result"
    },
    {
     "data": {
      "image/png": "[encoded data removed]",
      "text/plain": [
       "<Figure size 432x288 with 1 Axes>"
      ]
     },
     "metadata": {
      "needs_background": "light"
     },
     "output_type": "display_data"
    }
   ],
   "source": [
    "plt.hist(data_train['region'])"
   ]
  },
  {
   "cell_type": "code",
   "execution_count": 40,
   "metadata": {},
   "outputs": [
    {
     "name": "stdout",
     "output_type": "stream",
     "text": [
      "coeficiente de correlacion 'northeast': -0.02304434411289738 p-value: 0.4813251945689984\n",
      "coeficiente de correlacion 'northwest': -0.027069504909886896 p-value: 0.4081166211679457\n",
      "coeficiente de correlacion 'southeast': 0.09789141963254731 p-value: 0.002716660061808068\n",
      "coeficiente de correlacion 'southwest': -0.05126316103449839 p-value: 0.1170478723850215\n"
     ]
    }
   ],
   "source": [
    "corr_northeast = stats.pearsonr(transformed_data['northeast'], data_train['charges'])\n",
    "corr_northwest = stats.pearsonr(transformed_data['northwest'], data_train['charges'])\n",
    "corr_southeast = stats.pearsonr(transformed_data['southeast'], data_train['charges'])\n",
    "corr_southwest = stats.pearsonr(transformed_data['southwest'], data_train['charges'])\n",
    "\n",
    "print ('coeficiente de correlacion \\'northeast\\': ' +  str(corr_northeast[0]) + ' p-value: '+ str(corr_northeast[1]))\n",
    "print ('coeficiente de correlacion \\'northwest\\': ' +  str(corr_northwest[0]) + ' p-value: '+ str(corr_northwest[1]))\n",
    "print ('coeficiente de correlacion \\'southeast\\': ' +  str(corr_southeast[0]) + ' p-value: '+ str(corr_southeast[1]))\n",
    "print ('coeficiente de correlacion \\'southwest\\': ' +  str(corr_southwest[0]) + ' p-value: '+ str(corr_southwest[1]))"
   ]
  },
  {
   "cell_type": "markdown",
   "metadata": {},
   "source": [
    "### Conclusion de los datos discretos\n",
    "Las variables obtenidas de *sex*: *male/female* tienen un p-valor > 0.05 lo que nos dice que no son significativas en relación a la variable objetivo.\n",
    "\n",
    "Las variables obtenidas de *smoker*: *smoker/non smoker* tienen una alta correlación con la variable objetivo, de las variables que tiene este conjunto de datos es la más significativa en relación a la variable objetivo.\n",
    "\n",
    "Las variables obtenidas de *region*: *northeast/northwest/southeast/southwest* solo una de ellas es significativa y es la variable *southeast* en relación a la variable objetivo."
   ]
  },
  {
   "cell_type": "markdown",
   "metadata": {},
   "source": [
    "### División de los datos "
   ]
  },
  {
   "cell_type": "code",
   "execution_count": 45,
   "metadata": {},
   "outputs": [],
   "source": [
    "X = transformed_data\n",
    "y = data_train['charges']\n",
    "\n",
    "X_train, X_test, y_train, y_test = train_test_split (X, y, test_size = 0.2, random_state = 43)"
   ]
  },
  {
   "cell_type": "markdown",
   "metadata": {},
   "source": [
    "### Modelos y evaluación de los mismos"
   ]
  },
  {
   "cell_type": "markdown",
   "metadata": {},
   "source": [
    "### Regresión lineal"
   ]
  },
  {
   "cell_type": "markdown",
   "metadata": {},
   "source": [
    "#### Entrenamiento"
   ]
  },
  {
   "cell_type": "code",
   "execution_count": 46,
   "metadata": {},
   "outputs": [
    {
     "data": {
      "text/plain": [
       "LinearRegression(copy_X=True, fit_intercept=True, n_jobs=None, normalize=False)"
      ]
     },
     "execution_count": 46,
     "metadata": {},
     "output_type": "execute_result"
    }
   ],
   "source": [
    "regressor = LinearRegression()\n",
    "regressor.fit(X,y)"
   ]
  },
  {
   "cell_type": "markdown",
   "metadata": {},
   "source": [
    "##### Coeficientes obtenidos para cada variable"
   ]
  },
  {
   "cell_type": "code",
   "execution_count": 47,
   "metadata": {},
   "outputs": [
    {
     "data": {
      "text/html": [
       "<div>\n",
       "<style scoped>\n",
       "    .dataframe tbody tr th:only-of-type {\n",
       "        vertical-align: middle;\n",
       "    }\n",
       "\n",
       "    .dataframe tbody tr th {\n",
       "        vertical-align: top;\n",
       "    }\n",
       "\n",
       "    .dataframe thead th {\n",
       "        text-align: right;\n",
       "    }\n",
       "</style>\n",
       "<table border=\"1\" class=\"dataframe\">\n",
       "  <thead>\n",
       "    <tr style=\"text-align: right;\">\n",
       "      <th></th>\n",
       "      <th>age</th>\n",
       "      <th>bmi</th>\n",
       "      <th>female</th>\n",
       "      <th>male</th>\n",
       "      <th>children</th>\n",
       "      <th>non smoker</th>\n",
       "      <th>smoker</th>\n",
       "      <th>northeast</th>\n",
       "      <th>northwest</th>\n",
       "      <th>southeast</th>\n",
       "      <th>southwest</th>\n",
       "    </tr>\n",
       "  </thead>\n",
       "  <tbody>\n",
       "    <tr>\n",
       "      <td>0</td>\n",
       "      <td>6485.793956</td>\n",
       "      <td>2839.074544</td>\n",
       "      <td>-10.93567</td>\n",
       "      <td>10.93567</td>\n",
       "      <td>1504.184418</td>\n",
       "      <td>-11881.15685</td>\n",
       "      <td>11881.15685</td>\n",
       "      <td>250.452565</td>\n",
       "      <td>238.170207</td>\n",
       "      <td>-178.352972</td>\n",
       "      <td>-310.2698</td>\n",
       "    </tr>\n",
       "  </tbody>\n",
       "</table>\n",
       "</div>"
      ],
      "text/plain": [
       "           age          bmi    female      male     children   non smoker  \\\n",
       "0  6485.793956  2839.074544 -10.93567  10.93567  1504.184418 -11881.15685   \n",
       "\n",
       "        smoker   northeast   northwest   southeast  southwest  \n",
       "0  11881.15685  250.452565  238.170207 -178.352972  -310.2698  "
      ]
     },
     "execution_count": 47,
     "metadata": {},
     "output_type": "execute_result"
    }
   ],
   "source": [
    "pd.DataFrame(data=np.expand_dims(regressor.coef_, axis=0), columns=X.columns.values)"
   ]
  },
  {
   "cell_type": "markdown",
   "metadata": {},
   "source": [
    "##### Evaluación del modelo"
   ]
  },
  {
   "cell_type": "code",
   "execution_count": 48,
   "metadata": {},
   "outputs": [
    {
     "name": "stdout",
     "output_type": "stream",
     "text": [
      "MAE:  4503.97955533559\n",
      "MSE:  40063762.84298283\n",
      "R2:  0.7497079497806778\n"
     ]
    }
   ],
   "source": [
    "y_predict = regressor.predict(X_test)\n",
    "\n",
    "print (\"MAE: \", mean_absolute_error(y_test, y_predict))\n",
    "print (\"MSE: \", mean_squared_error(y_test, y_predict))\n",
    "print (\"R2: \", regressor.score(X, y))"
   ]
  },
  {
   "cell_type": "markdown",
   "metadata": {},
   "source": [
    "### ElasticNet"
   ]
  },
  {
   "cell_type": "markdown",
   "metadata": {},
   "source": [
    "#### Entrenamiento y evaluacion"
   ]
  },
  {
   "cell_type": "code",
   "execution_count": 116,
   "metadata": {},
   "outputs": [
    {
     "name": "stdout",
     "output_type": "stream",
     "text": [
      "MAE:  4512.186648221744\n",
      "MSE:  40169409.87369915\n",
      "R2:  0.7496370339864546\n"
     ]
    }
   ],
   "source": [
    "from sklearn.linear_model import ElasticNet\n",
    "elastic = ElasticNet(alpha=15, l1_ratio=1).fit(X,y)\n",
    "\n",
    "y_predict = elastic.predict(X_test)\n",
    "\n",
    "print (\"MAE: \", mean_absolute_error(y_test, y_predict))\n",
    "print (\"MSE: \", mean_squared_error(y_test, y_predict))\n",
    "print (\"R2: \", elastic.score(X, y))"
   ]
  },
  {
   "cell_type": "markdown",
   "metadata": {},
   "source": [
    "### Stochastic Gradient Descent"
   ]
  },
  {
   "cell_type": "markdown",
   "metadata": {},
   "source": [
    "#### Entrenamiento y evaluacion"
   ]
  },
  {
   "cell_type": "code",
   "execution_count": 52,
   "metadata": {},
   "outputs": [
    {
     "name": "stdout",
     "output_type": "stream",
     "text": [
      "MAE:  4516.281775874348\n",
      "MSE:  40089481.09053279\n",
      "R2:  0.7496806760560586\n"
     ]
    }
   ],
   "source": [
    "from sklearn.linear_model import SGDRegressor\n",
    "sgd = SGDRegressor(max_iter=100, random_state=43)\n",
    "sgd.fit(X,y)\n",
    "\n",
    "y_predict = sgd.predict(X_test)\n",
    "\n",
    "print (\"MAE: \", mean_absolute_error(y_test, y_predict))\n",
    "print (\"MSE: \", mean_squared_error(y_test, y_predict))\n",
    "print (\"R2: \", sgd.score(X, y))"
   ]
  },
  {
   "cell_type": "markdown",
   "metadata": {},
   "source": [
    "#### Ridge"
   ]
  },
  {
   "cell_type": "markdown",
   "metadata": {},
   "source": [
    "#### Entrenamiento y evaluacion"
   ]
  },
  {
   "cell_type": "code",
   "execution_count": 194,
   "metadata": {},
   "outputs": [
    {
     "name": "stdout",
     "output_type": "stream",
     "text": [
      "MAE:  4529.317621702127\n",
      "MSE:  41070885.06353393\n",
      "R2:  0.7471719638428449\n"
     ]
    }
   ],
   "source": [
    "from sklearn.linear_model import Ridge\n",
    "\n",
    "ridge = Ridge(alpha=0).fit(X,y)\n",
    "y_predict = ridge.predict(X_test)\n",
    "\n",
    "print (\"MAE: \", mean_absolute_error(y_test, y_predict))\n",
    "print (\"MSE: \", mean_squared_error(y_test, y_predict))\n",
    "print (\"R2: \", ridge.score(X, y))"
   ]
  },
  {
   "cell_type": "markdown",
   "metadata": {},
   "source": [
    "### Lasso"
   ]
  },
  {
   "cell_type": "markdown",
   "metadata": {},
   "source": [
    "#### Entrenamiento y evaluacion"
   ]
  },
  {
   "cell_type": "code",
   "execution_count": 200,
   "metadata": {},
   "outputs": [
    {
     "name": "stdout",
     "output_type": "stream",
     "text": [
      "MAE:  4503.09801853709\n",
      "MSE:  40069130.12565504\n",
      "R2:  0.749707292821906\n"
     ]
    }
   ],
   "source": [
    "from sklearn.linear_model import Lasso\n",
    "\n",
    "lasso = Lasso(alpha=1).fit(X,y)\n",
    "y_predict = lasso.predict(X_test)\n",
    "\n",
    "print (\"MAE: \", mean_absolute_error(y_test, y_predict))\n",
    "print (\"MSE: \", mean_squared_error(y_test, y_predict))\n",
    "print (\"R2: \", lasso.score(X, y))\n"
   ]
  },
  {
   "cell_type": "markdown",
   "metadata": {},
   "source": [
    "### Conclusiones de los modelos \n",
    "Una vez vistos los problemas que tenían las variables como la ausencia de linealidad o baja significación de algunas de ellas vemos que todos los modelos obtienen unos resultados muy similares y que no se pueden dar como del todo buenos porque para dar una predicción un resultado aproximado de un 75% no es excesivamente fiable. \n",
    "\n",
    "Con esos resultados decido buscar modelos no estudiados en clase que no tengan problemas a la hora de hacer una regresión en la que pueda haber problemas como la falta de linealidad."
   ]
  },
  {
   "cell_type": "markdown",
   "metadata": {},
   "source": [
    "## Modelo elegido para el problema"
   ]
  },
  {
   "cell_type": "markdown",
   "metadata": {},
   "source": [
    "### Stochastic Gradient Boosting\n",
    "Este modelo esta formado por un conjunto de arboles de decisión individuales entrenados de forma secuencial, de manera que cada nuevo árbol trata de mejorar los errores cometidos en los anteriores. La predicción de una nueva observación se obtiene agregando las predicciones de todos los arboles individuales que forman el modelo. \n",
    "\n",
    "Este modelo es capaz de seleccionar los predictores de forma automatica, no requiere de preprocesamiento de los datos continuos unicamente hay que aplicar one-hot-encoding a los datos categoricos y además no se ve muy influenciado por la presencia de outliers.\n",
    "\n",
    "Este modelo tiene algunos problemas como:\n",
    "    - Combinar muchos arboles para hacer las predicciones se pierde la interpretabilidad que tienen otros modelos.\n",
    "    - Cuando se trata con predictores continuos, pierden parte de su información al categorizarla en el momento de la division de los nodos\n",
    "    - No son capaces de extrapolar fuera del rango de los predictores observados en los datos de entrenamiento.\n",
    "    - Si no se controlan bien los hiperparametros es muy fácil que se produzca overfitting."
   ]
  },
  {
   "cell_type": "markdown",
   "metadata": {},
   "source": [
    "### Entrenamiento y ajuste de hiperparametros\n",
    "Este modelo usa algunos hiper parametros que conviene comentar:\n",
    "\n",
    "    - n_stimators: Numero de arboles que vamos a generar. Este puede llevar a que haya overfitting en el modelo si no lo\n",
    "                   ajustamos de forma correcta.\n",
    "    - max_depth: Profundidad máxima que pueden alcanzar los árboles. Este al igual que n_stimators puede llevar a que haya\n",
    "                 overfitting si no lo ajustamos de forma correcta.\n",
    "    - subsample: Es la proporción de datos utilizados para el ajuste de cada arbol. Cuando su valor es inferior a 1 se \n",
    "                 aplica Stochastic Gradient Boosting.\n",
    "    - min_samples_split: Número mínimo de observaciones que debe de tener un nodo para que pueda dividirse.\n",
    "    - learning_rate: Es el factor de aprendizaje y tiene que ser siempre un numero muy pequeño ya que controla cuanto de \n",
    "                     rapido va a aprender nuestro modelo y un valor elevado conduce a que haya overfitting.\n",
    "    - loss: Funcion de perdida que vamos a optimizar en este modelo. \n",
    "    - warm_start: Cuando esta a True si la siguiente predicción es peor que la anterior la desechara y se quedará \n",
    "                      con la anterior evitando así tambien que haya demasiadas iteraciones y se produzca overfitting\n",
    "    - random_state: Es la semilla como en otros modelos que hemos utilizado para que los resultados sean reproducibles."
   ]
  },
  {
   "cell_type": "code",
   "execution_count": 1,
   "metadata": {},
   "outputs": [
    {
     "ename": "NameError",
     "evalue": "name 'X' is not defined",
     "output_type": "error",
     "traceback": [
      "\u001b[1;31m---------------------------------------------------------------------------\u001b[0m",
      "\u001b[1;31mNameError\u001b[0m                                 Traceback (most recent call last)",
      "\u001b[1;32m<ipython-input-1-799b231477fb>\u001b[0m in \u001b[0;36m<module>\u001b[1;34m\u001b[0m\n\u001b[0;32m     13\u001b[0m \u001b[1;33m\u001b[0m\u001b[0m\n\u001b[0;32m     14\u001b[0m \u001b[0mgbr\u001b[0m \u001b[1;33m=\u001b[0m \u001b[0mGradientBoostingRegressor\u001b[0m\u001b[1;33m(\u001b[0m\u001b[1;33m**\u001b[0m\u001b[0mgbr_params\u001b[0m\u001b[1;33m)\u001b[0m\u001b[1;33m\u001b[0m\u001b[1;33m\u001b[0m\u001b[0m\n\u001b[1;32m---> 15\u001b[1;33m \u001b[0mgbr\u001b[0m\u001b[1;33m.\u001b[0m\u001b[0mfit\u001b[0m\u001b[1;33m(\u001b[0m\u001b[0mX\u001b[0m\u001b[1;33m,\u001b[0m\u001b[0my\u001b[0m\u001b[1;33m)\u001b[0m\u001b[1;33m\u001b[0m\u001b[1;33m\u001b[0m\u001b[0m\n\u001b[0m",
      "\u001b[1;31mNameError\u001b[0m: name 'X' is not defined"
     ]
    }
   ],
   "source": [
    "from sklearn.ensemble import GradientBoostingRegressor\n",
    "\n",
    "gbr_params = {\n",
    "        'n_estimators': 500,\n",
    "        'max_depth': 3,\n",
    "        'subsample': 0.8,\n",
    "        'min_samples_split': 20,\n",
    "        'learning_rate': 0.01,\n",
    "        'loss': 'ls',\n",
    "        'random_state': 43,\n",
    "        'warm_start': True\n",
    "}\n",
    "\n",
    "gbr = GradientBoostingRegressor(**gbr_params)\n",
    "gbr.fit(X,y)"
   ]
  },
  {
   "cell_type": "markdown",
   "metadata": {},
   "source": [
    "### Evaluación del modelo"
   ]
  },
  {
   "cell_type": "code",
   "execution_count": null,
   "metadata": {},
   "outputs": [],
   "source": [
    "y_predict = gbr.predict(X_test)\n",
    "print (\"MAE: \", mean_absolute_error(y_test, y_predict))\n",
    "print (\"MSE: \", mean_squared_error(y_test, y_predict))\n",
    "print (\"R2: \", gbr.score(X, y))\n",
    "\n",
    "\n",
    "data_predict = transform_data(data_test, False)\n",
    "predict = gbr.predict(data_predict)\n",
    "\n",
    "write_results_csv(predict)"
   ]
  },
  {
   "cell_type": "code",
   "execution_count": 229,
   "metadata": {},
   "outputs": [
    {
     "data": {
      "text/plain": [
       "array([-24297308.64284927, -30244442.48246622, -24335525.25136495,\n",
       "       -26233206.2077271 , -37686405.02342275])"
      ]
     },
     "execution_count": 229,
     "metadata": {},
     "output_type": "execute_result"
    }
   ],
   "source": [
    "cross_val_score(gbr, X, y, cv=5, scoring='neg_mean_error')"
   ]
  },
  {
   "cell_type": "markdown",
   "metadata": {},
   "source": [
    "### Conclusión final\n",
    "Este modelo ha funcionado mejor para este conjunto de datos en concreto por sus facilidades a la hora de trabajar con datos atipicos y porque no presenta los mismos problemas a la hora de que sea necesaria la existencia de una relación lineal con la variable objetivo pero aunque sus resultados sean mejores que los modelos lineales es una pena que no se puedan interpretar con la misma sencillez"
   ]
  }
 ],
 "metadata": {
  "kernelspec": {
   "display_name": "Python 3",
   "language": "python",
   "name": "python3"
  },
  "language_info": {
   "codemirror_mode": {
    "name": "ipython",
    "version": 3
   },
   "file_extension": ".py",
   "mimetype": "text/x-python",
   "name": "python",
   "nbconvert_exporter": "python",
   "pygments_lexer": "ipython3",
   "version": "3.7.4"
  }
 },
 "nbformat": 4,
 "nbformat_minor": 2
}
